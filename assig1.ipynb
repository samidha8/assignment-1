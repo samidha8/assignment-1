{
 "cells": [
  {
   "cell_type": "code",
   "execution_count": null,
   "id": "e93e43c9-15d4-4e28-9d0b-585b271e06e4",
   "metadata": {},
   "outputs": [],
   "source": [
    "\"who developed python programming language?\""
   ]
  },
  {
   "cell_type": "code",
   "execution_count": 1,
   "id": "5ecd3f50-e7be-4ca8-b010-c6d99ae0d780",
   "metadata": {},
   "outputs": [
    {
     "data": {
      "text/plain": [
       "'Guido van Rossum developed python programming language'"
      ]
     },
     "execution_count": 1,
     "metadata": {},
     "output_type": "execute_result"
    }
   ],
   "source": [
    "\"Guido van Rossum developed python programming language\""
   ]
  },
  {
   "cell_type": "code",
   "execution_count": null,
   "id": "06bdcf7f-0562-4a8e-92af-be0eb5028f2a",
   "metadata": {},
   "outputs": [],
   "source": [
    "\"which type of programming does python support?\""
   ]
  },
  {
   "cell_type": "code",
   "execution_count": 2,
   "id": "f45dc2c9-4605-4ff9-801a-e86572baeaca",
   "metadata": {},
   "outputs": [
    {
     "data": {
      "text/plain": [
       "'supporting object-oriented, structured, and functional programming.'"
      ]
     },
     "execution_count": 2,
     "metadata": {},
     "output_type": "execute_result"
    }
   ],
   "source": [
    "\"supporting object-oriented, structured, and functional programming.\""
   ]
  },
  {
   "cell_type": "code",
   "execution_count": null,
   "id": "136ab545-dbf3-49ba-b10f-d547a29a2a0b",
   "metadata": {},
   "outputs": [],
   "source": [
    "\"is python case sensitive language?\""
   ]
  },
  {
   "cell_type": "code",
   "execution_count": 1,
   "id": "e58fcf3e-9888-48be-b06c-d1e34cb1ea81",
   "metadata": {},
   "outputs": [
    {
     "data": {
      "text/plain": [
       "' yes python is case sensitive language'"
      ]
     },
     "execution_count": 1,
     "metadata": {},
     "output_type": "execute_result"
    }
   ],
   "source": [
    "\" yes python is case sensitive language\""
   ]
  },
  {
   "cell_type": "code",
   "execution_count": null,
   "id": "f829866b-e4f7-4fd7-b3f0-7f1131819aa0",
   "metadata": {},
   "outputs": [],
   "source": [
    "\"what is the correct extension of python file?\""
   ]
  },
  {
   "cell_type": "code",
   "execution_count": 2,
   "id": "f4e1afee-95fc-4eeb-acb3-67790bd79217",
   "metadata": {},
   "outputs": [
    {
     "data": {
      "text/plain": [
       "'The extensions for Python files are - . py, . pyi,'"
      ]
     },
     "execution_count": 2,
     "metadata": {},
     "output_type": "execute_result"
    }
   ],
   "source": [
    "\"The extensions for Python files are - . py, . pyi,\""
   ]
  },
  {
   "cell_type": "code",
   "execution_count": null,
   "id": "3f90c0ee-1663-44d7-948e-82020b486b4f",
   "metadata": {},
   "outputs": [],
   "source": [
    "\"is python code compiled or interprete?\""
   ]
  },
  {
   "cell_type": "code",
   "execution_count": 3,
   "id": "2b061198-2cce-4916-8b2d-ef0a62729a83",
   "metadata": {},
   "outputs": [
    {
     "data": {
      "text/plain": [
       "'python code is interpreted Python does not need a compiled'"
      ]
     },
     "execution_count": 3,
     "metadata": {},
     "output_type": "execute_result"
    }
   ],
   "source": [
    "\"python code is interpreted Python does not need a compiled\""
   ]
  },
  {
   "cell_type": "code",
   "execution_count": null,
   "id": "726c4e66-33db-4f5d-af5d-89729a2c8cac",
   "metadata": {},
   "outputs": [],
   "source": [
    "\"name few blocks of code used to define python?\""
   ]
  },
  {
   "cell_type": "code",
   "execution_count": null,
   "id": "ef170385-ec6c-4e06-8821-353286ab6c47",
   "metadata": {},
   "outputs": [],
   "source": [
    "\"following are blocks: a module, a function body, and a class definition\""
   ]
  },
  {
   "cell_type": "code",
   "execution_count": null,
   "id": "a440ecc0-4053-4015-90b7-de86d44065d2",
   "metadata": {},
   "outputs": [],
   "source": [
    "\"state a character used to give single-line comment in python?\""
   ]
  },
  {
   "cell_type": "code",
   "execution_count": 3,
   "id": "300ae8c8-eedc-4126-b8f5-0c0306503380",
   "metadata": {},
   "outputs": [
    {
     "data": {
      "text/plain": [
       "'Hash character #'"
      ]
     },
     "execution_count": 3,
     "metadata": {},
     "output_type": "execute_result"
    }
   ],
   "source": [
    "\"Hash character #\""
   ]
  },
  {
   "cell_type": "markdown",
   "id": "5612d686-2896-49a2-bdbb-a4ccbc3a97d7",
   "metadata": {},
   "source": [
    "\"mention functions which can help us to find the version of python that we are currently working on\"?"
   ]
  },
  {
   "cell_type": "code",
   "execution_count": 5,
   "id": "5162a124-0728-4298-b65d-0f7937a2d78e",
   "metadata": {},
   "outputs": [
    {
     "data": {
      "text/plain": [
       "' Using sys.version method\\n Using python_version() function\\n Using Python -V command'"
      ]
     },
     "execution_count": 5,
     "metadata": {},
     "output_type": "execute_result"
    }
   ],
   "source": [
    "\"\"\" Using sys.version method\n",
    " Using python_version() function\n",
    " Using Python -V command\"\"\""
   ]
  },
  {
   "cell_type": "code",
   "execution_count": null,
   "id": "59e62d47-a7ed-4a03-a282-c4b1365734f4",
   "metadata": {},
   "outputs": [],
   "source": [
    "\"Python supports to make anonymous functions which are not bound to a name(@ runtime). It uses a construct called = lambda\""
   ]
  },
  {
   "cell_type": "code",
   "execution_count": null,
   "id": "412d5f23-2c0b-4c31-82d3-53fcd16deb3f",
   "metadata": {},
   "outputs": [],
   "source": [
    "\"what does pip stand for\"?"
   ]
  },
  {
   "cell_type": "code",
   "execution_count": 6,
   "id": "c2fbe295-71ed-4eeb-a043-0f5d49827a23",
   "metadata": {},
   "outputs": [
    {
     "data": {
      "text/plain": [
       "'preferred installer program'"
      ]
     },
     "execution_count": 6,
     "metadata": {},
     "output_type": "execute_result"
    }
   ],
   "source": [
    "\"preferred installer program\""
   ]
  },
  {
   "cell_type": "code",
   "execution_count": null,
   "id": "23ccf946-aedb-4788-bcbc-ef4c041c565e",
   "metadata": {},
   "outputs": [],
   "source": [
    "mention a few built-in funtions in python?\""
   ]
  },
  {
   "cell_type": "code",
   "execution_count": 10,
   "id": "f59d5274-1dd8-4962-9f19-8a952a53d922",
   "metadata": {},
   "outputs": [
    {
     "data": {
      "text/plain": [
       "'len(0) , dict{}, list[], input(), int(),float(), max(), min(), print(), list(), range() ,tuple() ,type()'"
      ]
     },
     "execution_count": 10,
     "metadata": {},
     "output_type": "execute_result"
    }
   ],
   "source": [
    "\"len(0) , dict{}, list[], input(), int(),float(), max(), min(), print(), list(), range() ,tuple() ,type()\""
   ]
  },
  {
   "cell_type": "code",
   "execution_count": null,
   "id": "0fc3e038-967f-47a2-b391-136d4b3ec51f",
   "metadata": {},
   "outputs": [],
   "source": [
    "\"what is max length if identifier in python?\""
   ]
  },
  {
   "cell_type": "code",
   "execution_count": 11,
   "id": "612fdbce-7171-4bbf-92f8-e869eb3ef895",
   "metadata": {},
   "outputs": [
    {
     "data": {
      "text/plain": [
       "'An identifier can have a maximum length of 79 characters in Python.'"
      ]
     },
     "execution_count": 11,
     "metadata": {},
     "output_type": "execute_result"
    }
   ],
   "source": [
    " \"An identifier can have a maximum length of 79 characters in Python.\""
   ]
  },
  {
   "cell_type": "code",
   "execution_count": null,
   "id": "7f67889e-271b-41ca-84a0-c703b04e2dc5",
   "metadata": {},
   "outputs": [],
   "source": [
    "\"what are the benifits of using python?\""
   ]
  },
  {
   "cell_type": "code",
   "execution_count": 12,
   "id": "1895986f-ecfd-4ea1-a555-377deb52cc5a",
   "metadata": {},
   "outputs": [],
   "source": [
    "# Data science.\n",
    "# Scientific and mathematical computing.\n",
    "# Web development.\n",
    "# Finance and trading.\n",
    "# System automation and administration.\n",
    "# Computer graphics.\n",
    "# Basic game development.\n",
    "# Security and penetration testing"
   ]
  },
  {
   "cell_type": "code",
   "execution_count": null,
   "id": "d90cc1a0-947c-412f-bc28-121c060f713e",
   "metadata": {},
   "outputs": [],
   "source": [
    "\"how is memory managed in python?\""
   ]
  },
  {
   "cell_type": "code",
   "execution_count": null,
   "id": "14a1332f-18b0-4983-96b1-3c1cf23da993",
   "metadata": {},
   "outputs": [],
   "source": [
    "\"\"\"Memory management in Python involves a private heap containing all Python objects and data structures. The management of this private heap is ensured internally by the Python memory manager\"\"\""
   ]
  },
  {
   "cell_type": "code",
   "execution_count": null,
   "id": "f1d49114-33ab-4f8f-a7c6-e25f49054bdb",
   "metadata": {},
   "outputs": [],
   "source": [
    "\"\"\"Memory management in Python involves a private heap containing all Python objects and data structures. The management of this private heap is ensured internally by the Python memory manager\"\"\""
   ]
  },
  {
   "cell_type": "code",
   "execution_count": 2,
   "id": "fb866059-dc51-41bd-8f59-11af92fae54d",
   "metadata": {},
   "outputs": [
    {
     "data": {
      "text/plain": [
       "'how to install python on window and set path variable?'"
      ]
     },
     "execution_count": 2,
     "metadata": {},
     "output_type": "execute_result"
    }
   ],
   "source": [
    "\"how to install python on window and set path variable?\""
   ]
  },
  {
   "cell_type": "code",
   "execution_count": 1,
   "id": "649b2f60-b28e-4f9f-9810-8de1c00aac2a",
   "metadata": {},
   "outputs": [
    {
     "ename": "SyntaxError",
     "evalue": "invalid syntax (3833609629.py, line 2)",
     "output_type": "error",
     "traceback": [
      "\u001b[0;36m  Cell \u001b[0;32mIn[1], line 2\u001b[0;36m\u001b[0m\n\u001b[0;31m    In the Power User Task Menu, select the System option.\u001b[0m\n\u001b[0m       ^\u001b[0m\n\u001b[0;31mSyntaxError\u001b[0m\u001b[0;31m:\u001b[0m invalid syntax\n"
     ]
    }
   ],
   "source": [
    "#Press the Windows key+X to access the Power User Task Menu\n",
    "#In the Power User Task Menu, select the System option.\n",
    "#In the System window, scroll to the bottom and click the About option.\n",
    "#In the System > About window, click the Advanced system settings link at the bottom of the Device specifications section.\n",
    "# In the System Properties window, click the Advanced tab, then click the Environment Variables button near the bottom of that tab\n",
    "###n the Environment Variables window (pictured below), highlight the Path variable in the System variables section and click the Edit button. Add or modify the path lines with the paths you want the computer to access. Each directory path is separated with a semicolon, as shown below.###."
   ]
  },
  {
   "cell_type": "code",
   "execution_count": 3,
   "id": "b3daac0d-e745-4c9f-a8e5-14d22feeec3f",
   "metadata": {},
   "outputs": [
    {
     "data": {
      "text/plain": [
       "'is indentation required in python.?'"
      ]
     },
     "execution_count": 3,
     "metadata": {},
     "output_type": "execute_result"
    }
   ],
   "source": [
    "\"is indentation required in python.?\""
   ]
  },
  {
   "cell_type": "code",
   "execution_count": 4,
   "id": "e7725f7e-76c0-4872-a015-dcac974c92ab",
   "metadata": {},
   "outputs": [
    {
     "data": {
      "text/plain": [
       "'the indentation in Python is very important. Python uses indentation to indicate a block of code.'"
      ]
     },
     "execution_count": 4,
     "metadata": {},
     "output_type": "execute_result"
    }
   ],
   "source": [
    "\"the indentation in Python is very important. Python uses indentation to indicate a block of code.\""
   ]
  },
  {
   "cell_type": "code",
   "execution_count": null,
   "id": "5ea2b554-10fd-4071-a758-abc226a6b360",
   "metadata": {},
   "outputs": [],
   "source": []
  }
 ],
 "metadata": {
  "kernelspec": {
   "display_name": "Python 3 (ipykernel)",
   "language": "python",
   "name": "python3"
  },
  "language_info": {
   "codemirror_mode": {
    "name": "ipython",
    "version": 3
   },
   "file_extension": ".py",
   "mimetype": "text/x-python",
   "name": "python",
   "nbconvert_exporter": "python",
   "pygments_lexer": "ipython3",
   "version": "3.10.8"
  }
 },
 "nbformat": 4,
 "nbformat_minor": 5
}
